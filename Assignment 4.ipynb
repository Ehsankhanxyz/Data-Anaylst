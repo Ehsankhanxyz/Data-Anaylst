{
 "cells": [
  {
   "cell_type": "code",
   "execution_count": 1,
   "id": "d70cc276-53ca-4999-8edc-95ef19708b43",
   "metadata": {},
   "outputs": [],
   "source": [
    "# Q1. my_tuple = ( (1, 2, 3), [4, 5, 6], (\"apple\", 'banana', 'cherry'), [7, 8, 9] )\n",
    "# • Print all elements from my_tuple on a new line (using for loop)\n",
    "# • Create a new tuple by concatenating the first and last elements of my_tuple"
   ]
  },
  {
   "cell_type": "code",
   "execution_count": 2,
   "id": "608e49a0-3b98-4f26-9dba-16814b5781b9",
   "metadata": {},
   "outputs": [
    {
     "name": "stdout",
     "output_type": "stream",
     "text": [
      "(1, 2, 3)\n",
      "[4, 5, 6]\n",
      "('apple', 'banana', 'cherry')\n",
      "[7, 8, 9]\n",
      "(1, 2, 3, 7, 8, 9)\n"
     ]
    }
   ],
   "source": [
    "# Print all elements from my_tuple on a new line (using for loop)\n",
    "my_tuple = ( (1, 2, 3), [4, 5, 6], (\"apple\", 'banana', 'cherry'), [7, 8, 9] )\n",
    "\n",
    "for i in my_tuple:\n",
    "    print (i)\n",
    "\n",
    "# Create a new tuple by concatenating the first and last elements of my_tuple\n",
    "my_new_tuple = my_tuple[0] + tuple (my_tuple [3])\n",
    "print (my_new_tuple)"
   ]
  },
  {
   "cell_type": "code",
   "execution_count": 3,
   "id": "854bbb9b-4272-47dc-9493-3223d1f5671d",
   "metadata": {},
   "outputs": [],
   "source": [
    "# Q2. inventory = { \"The Great Gatsby\": {\"price\": 10.99, \"quantity\": 5}, \"Rich dad poor dad\": {\"price\": 8.99, \"quantity\": 8},\n",
    "# \"Harry Potter\": {\"price\": 12.50, \"quantity\": 2}, }\n",
    "# •\tAdd a new book in inventory using method and get all book titles using method\n",
    "# •\tRemove a book if it's out of stock"
   ]
  },
  {
   "cell_type": "code",
   "execution_count": 4,
   "id": "195d5928-da9b-44df-bea1-eabd7c0808e2",
   "metadata": {},
   "outputs": [
    {
     "name": "stdout",
     "output_type": "stream",
     "text": [
      "dict_keys(['The Great Gatsby', 'Rich dad poor dad', 'Harry Potter', 'Robin Sharma'])\n",
      "{'The Great Gatsby': {'price': 10.99, 'quantity': 5}, 'Harry Potter': {'price': 12.5, 'quantity': 4}, 'Robin Sharma': {'price': 13.99, 'quantity': 6}}\n"
     ]
    }
   ],
   "source": [
    "inventory = { \n",
    "    \"The Great Gatsby\": {\"price\": 10.99, \"quantity\": 5}, \n",
    "    \"Rich dad poor dad\": {\"price\": 8.99, \"quantity\": 0},\n",
    "    \"Harry Potter\": {\"price\": 12.50, \"quantity\": 4}, \n",
    "}\n",
    "\n",
    "# •\tAdd a new book in inventory using method and get all book titles using method\n",
    "inventory.update({\"Robin Sharma\": {\"price\" : 13.99, \"quantity\": 6}} )\n",
    "\n",
    "book_title = inventory.keys() \n",
    "print (book_title)\n",
    "\n",
    "# •\tRemove a book if it's out of stock\n",
    "for key,value in list (inventory.items()):\n",
    "    for k,v in list(value.items()):\n",
    "        if v ==0:\n",
    "             del inventory[key]\n",
    "print (inventory)"
   ]
  },
  {
   "cell_type": "code",
   "execution_count": 5,
   "id": "cd2e6f0d-a6e2-40bc-94c9-d029b4f82731",
   "metadata": {},
   "outputs": [],
   "source": [
    "# Q3. An ecommerce store stores information about its products in a nested dictionary. \n",
    "# The outer dictionary uses product IDs as keys, and the inner dictionary stores product details like name, category, price, and stock quantity.\n",
    "# products = { 101: {\"name\": \"Laptop\", \"category\": \"Electronics\", \"price\": 1200, \"stock\": 50}, \n",
    "#             102: {\"name\": \"Shirt\", \"category\": \"Apparel\", \"price\": 25, \"stock\": 200},\n",
    "#             103: {\"name\": \"Coffee Maker\", \"category\": \"Home Appliances\", \"price\": 80, \"stock\": 30} }\n",
    "# •\tIncrease the stock of the \"Shirt\" product (add 50 more units)\n",
    "# •\tAdd a new product (e.g., \"Smartphone\")\n"
   ]
  },
  {
   "cell_type": "code",
   "execution_count": 6,
   "id": "afe1e29a-7e92-4340-b5f2-4dfd8df7db88",
   "metadata": {},
   "outputs": [
    {
     "name": "stdout",
     "output_type": "stream",
     "text": [
      "{101: {'name': 'Laptop', 'category': 'Electronics', 'price': 1200, 'stock': 50}, 102: {'name': 'Shirt', 'category': 'Apparel', 'price': 25, 'stock': 250}, 103: {'name': 'Coffee Maker', 'category': 'Home Appliances', 'price': 80, 'stock': 30}}\n",
      "{101: {'name': 'Laptop', 'category': 'Electronics', 'price': 1200, 'stock': 50}, 102: {'name': 'Shirt', 'category': 'Apparel', 'price': 25, 'stock': 250}, 103: {'name': 'Coffee Maker', 'category': 'Home Appliances', 'price': 80, 'stock': 30}, 104: {'name': 'Smartphone', 'category': 'Electronics', 'price': 2500, 'stock': 20}}\n"
     ]
    }
   ],
   "source": [
    "products = { 101: {\"name\": \"Laptop\", \"category\": \"Electronics\", \"price\": 1200, \"stock\": 50}, \n",
    "            102: {\"name\": \"Shirt\", \"category\": \"Apparel\", \"price\": 25, \"stock\": 200},\n",
    "            103: {\"name\": \"Coffee Maker\", \"category\": \"Home Appliances\", \"price\": 80, \"stock\": 30} \n",
    "           }\n",
    "\n",
    "# •\tIncrease the stock of the \"Shirt\" product (add 50 more units)\n",
    "products [102]['stock']= 250\n",
    "print (products)\n",
    "\n",
    "# •\tAdd a new product (e.g., \"Smartphone\")\n",
    "products[104]={'name':\"Smartphone\", \"category\" : \"Electronics\", \"price\" : 2500, \"stock\" : 20}\n",
    "print (products)"
   ]
  },
  {
   "cell_type": "code",
   "execution_count": 7,
   "id": "0bb1968f-e13f-481c-8097-55dcede4e6b2",
   "metadata": {},
   "outputs": [],
   "source": [
    "# Q5. You are managing a list of students enrolled in two different courses. You need to perform various set operations to understand the student\n",
    "# enrollment. Task: Create two sets: one for students in \"Course A\" and one for students in \"Course B\". \n",
    "# Find the students who are in \"Course A\" but not in \"Course B\" (difference). \n",
    "# Find students who are only in one of the two courses (symmetric difference). \n",
    "# course_a = {\"John\", \"Alice\", \"Bob\", \"David\"} course_b = {\"Alice\", \"Eve\", \"Charlie\", \"David\"}\n",
    "# •\tFind students who are in Course A but not in Course B (difference)\n",
    "# •\tFind students who are only in one of the two courses (symmetric difference)"
   ]
  },
  {
   "cell_type": "code",
   "execution_count": 8,
   "id": "d8841d6f-2f44-4225-893a-6b408373b0d4",
   "metadata": {},
   "outputs": [
    {
     "name": "stdout",
     "output_type": "stream",
     "text": [
      "{'John', 'Bob'}\n",
      "{'Eve', 'Bob', 'Charlie', 'John'}\n"
     ]
    }
   ],
   "source": [
    "course_a = {\"John\", \"Alice\", \"Bob\", \"David\"} \n",
    "course_b = {\"Alice\", \"Eve\", \"Charlie\", \"David\"}\n",
    "\n",
    "# •\tFind students who are in Course A but not in Course B (difference)\n",
    "\n",
    "print (course_a.difference(course_b))\n",
    "\n",
    "# •\tFind students who are only in one of the two courses (symmetric difference)\n",
    "\n",
    "print (course_a.symmetric_difference (course_b))"
   ]
  },
  {
   "cell_type": "code",
   "execution_count": 9,
   "id": "542c53b7-0e0f-41e7-b5db-95dade3973f9",
   "metadata": {},
   "outputs": [
    {
     "data": {
      "text/plain": [
       "['__and__',\n",
       " '__class__',\n",
       " '__class_getitem__',\n",
       " '__contains__',\n",
       " '__delattr__',\n",
       " '__dir__',\n",
       " '__doc__',\n",
       " '__eq__',\n",
       " '__format__',\n",
       " '__ge__',\n",
       " '__getattribute__',\n",
       " '__getstate__',\n",
       " '__gt__',\n",
       " '__hash__',\n",
       " '__iand__',\n",
       " '__init__',\n",
       " '__init_subclass__',\n",
       " '__ior__',\n",
       " '__isub__',\n",
       " '__iter__',\n",
       " '__ixor__',\n",
       " '__le__',\n",
       " '__len__',\n",
       " '__lt__',\n",
       " '__ne__',\n",
       " '__new__',\n",
       " '__or__',\n",
       " '__rand__',\n",
       " '__reduce__',\n",
       " '__reduce_ex__',\n",
       " '__repr__',\n",
       " '__ror__',\n",
       " '__rsub__',\n",
       " '__rxor__',\n",
       " '__setattr__',\n",
       " '__sizeof__',\n",
       " '__str__',\n",
       " '__sub__',\n",
       " '__subclasshook__',\n",
       " '__xor__',\n",
       " 'add',\n",
       " 'clear',\n",
       " 'copy',\n",
       " 'difference',\n",
       " 'difference_update',\n",
       " 'discard',\n",
       " 'intersection',\n",
       " 'intersection_update',\n",
       " 'isdisjoint',\n",
       " 'issubset',\n",
       " 'issuperset',\n",
       " 'pop',\n",
       " 'remove',\n",
       " 'symmetric_difference',\n",
       " 'symmetric_difference_update',\n",
       " 'union',\n",
       " 'update']"
      ]
     },
     "execution_count": 9,
     "metadata": {},
     "output_type": "execute_result"
    }
   ],
   "source": [
    "dir(set())"
   ]
  },
  {
   "cell_type": "code",
   "execution_count": 10,
   "id": "3b3ec498-d303-44a6-9992-0ee380212544",
   "metadata": {},
   "outputs": [],
   "source": [
    "# Q6. Write a Python program that calculates the sum of all even numbers between 1 and 50 (inclusive) using a for loop.\n",
    "# Hint\n",
    "# 1.\tInitialize a variable to hold the sum (e.g., sum_of_evens).\n",
    "# 2.\tUse a for loop to iterate through all numbers from 1 to 50.\n",
    "# 3.\tInside the loop, check if the number is even.\n",
    "# 4.\tIf the number is even, add it to sum_of_evens.\n",
    "# 5.\tAfter the loop finishes, print the total sum of all even numbers between 1 and 50."
   ]
  },
  {
   "cell_type": "code",
   "execution_count": 11,
   "id": "3bb851bf-b114-4352-bab6-c54bf87c241b",
   "metadata": {},
   "outputs": [
    {
     "name": "stdout",
     "output_type": "stream",
     "text": [
      " The total sum of all even numbers between 1 and 50 : 650\n",
      " The total sum of all odd numbers between 1 and 50 : 625\n",
      "The sum of all numbers between 1 to 50:  1275\n"
     ]
    }
   ],
   "source": [
    "#Initialize a variable to hold the sum (e.g., sum_of_evens).\n",
    "sum_of_even = 0\n",
    "\n",
    "#Use a for loop to iterate through all numbers from 1 to 50.\n",
    "for i in range (1,51):\n",
    "    #Inside the loop, check if the number is even.\n",
    "    if (i % 2) == 0:\n",
    "        #If the number is even, add it to sum_of_evens.\n",
    "        sum_of_even +=i\n",
    "#After the loop finishes, print the total sum of all even numbers between 1 and 50.\n",
    "print (f\" The total sum of all even numbers between 1 and 50 :\", sum_of_even)\n",
    "\n",
    "# Additional done by myself\n",
    "sum_of_odd = 0\n",
    "for i in range (1,51):\n",
    "    if (i % 2) != 0:\n",
    "        sum_of_odd +=i\n",
    "print (f\" The total sum of all odd numbers between 1 and 50 :\", sum_of_odd)\n",
    "print ( \"The sum of all numbers between 1 to 50: \",sum_of_even+ sum_of_odd)"
   ]
  },
  {
   "cell_type": "code",
   "execution_count": 12,
   "id": "ac46f42f-97f9-41c4-bd03-f2262c911595",
   "metadata": {},
   "outputs": [
    {
     "name": "stdin",
     "output_type": "stream",
     "text": [
      "Enter any number to show its table 4\n"
     ]
    },
    {
     "name": "stdout",
     "output_type": "stream",
     "text": [
      " 4 x 1 = 4\n",
      " 4 x 2 = 8\n",
      " 4 x 3 = 12\n",
      " 4 x 4 = 16\n",
      " 4 x 5 = 20\n",
      " 4 x 6 = 24\n",
      " 4 x 7 = 28\n",
      " 4 x 8 = 32\n",
      " 4 x 9 = 36\n",
      " 4 x 10 = 40\n"
     ]
    }
   ],
   "source": [
    "### Q7. Write a Python program that prints the multiplication table for a given number (between 1 and 10) using a for loop.\n",
    "\n",
    "# Hint:\n",
    "# 1.\tAsk the user for a number between 1 and 10 .\n",
    "# 2.\tUse a for loop to iterate through the numbers from 1 to 10.\n",
    "# 3.\tFor each iteration, calculate the product of the given number and the current number in the loop.\n",
    "# 4.\tPrint the result in a readable format (e.g., 5 x 1 = 5).\n",
    "# 5.\tEnsure the program works correctly for any number between 1 and 10.\n",
    "\n",
    "input_num = int (input (\"Enter any number to show its table\"))\n",
    "\n",
    "for i in range (1,11):\n",
    "    print ( f\" {input_num} x {i} = {input_num*i}\")"
   ]
  },
  {
   "cell_type": "code",
   "execution_count": 13,
   "id": "c2361d95-6a77-498e-8914-a1961b77f8e4",
   "metadata": {},
   "outputs": [],
   "source": [
    "# Q8. Power of a Number\n",
    "# Write a Python program that takes a number and prints the powers of the number (starting from 1 to 10) using a while loop. \n",
    "# For example, if the user inputs 3, the output should be:\n",
    "# 3^1 = 3\n",
    "# 3^2 = 9\n",
    "# 3^3 = 27\n",
    "# ... up to 3^10."
   ]
  },
  {
   "cell_type": "code",
   "execution_count": 14,
   "id": "5074d683-f2a3-4533-a59e-0a50219ea012",
   "metadata": {},
   "outputs": [
    {
     "name": "stdin",
     "output_type": "stream",
     "text": [
      "Enter any number to find its power : 4\n"
     ]
    },
    {
     "name": "stdout",
     "output_type": "stream",
     "text": [
      " 4 ^ 1 = 4\n",
      " 4 ^ 2 = 16\n",
      " 4 ^ 3 = 64\n",
      " 4 ^ 4 = 256\n",
      " 4 ^ 5 = 1024\n",
      " 4 ^ 6 = 4096\n",
      " 4 ^ 7 = 16384\n",
      " 4 ^ 8 = 65536\n",
      " 4 ^ 9 = 262144\n",
      " 4 ^ 10 = 1048576\n"
     ]
    }
   ],
   "source": [
    "input_num = int (input(\"Enter any number to find its power :\"))\n",
    "\n",
    "i= 1\n",
    "while i <=10:\n",
    "    print ( f\" {input_num} ^ {i} = {input_num ** i}\")\n",
    "    i += 1"
   ]
  },
  {
   "cell_type": "code",
   "execution_count": 16,
   "id": "188e6cd3-18d7-4a20-b5fd-2deb329ec081",
   "metadata": {},
   "outputs": [],
   "source": [
    "# Q9.  Problem Statement: Write a Python program that takes an integer input from the user and counts down from that number to 0. \n",
    "# The program should display the current number at each step until it reaches 0, at which point it should print a message indicating \n",
    "# the countdown is finished\n",
    "# Output Hint:\n",
    "# Enter a number to start the countdown:  3\n",
    "#  3\n",
    "#  2\n",
    "#  1\n",
    "#  0\n",
    "#  Countdown finished!"
   ]
  },
  {
   "cell_type": "code",
   "execution_count": 24,
   "id": "d293c3db-bc52-469c-bcd8-695c2539f54c",
   "metadata": {},
   "outputs": [
    {
     "name": "stdin",
     "output_type": "stream",
     "text": [
      "Enter a number to start the countdown:  8\n"
     ]
    },
    {
     "name": "stdout",
     "output_type": "stream",
     "text": [
      "8\n",
      "7\n",
      "6\n",
      "5\n",
      "4\n",
      "3\n",
      "2\n",
      "1\n",
      "0\n",
      "Coundown is finished!\n"
     ]
    }
   ],
   "source": [
    "n = int (input (\"Enter a number to start the countdown: \"))\n",
    "for i in range (n,-1,-1):\n",
    "    print (i)\n",
    "    if i == 0:\n",
    "        print (\"Coundown is finished!\")"
   ]
  },
  {
   "cell_type": "code",
   "execution_count": 25,
   "id": "de2c57f1-45ce-4d2a-b684-f0501e49ab37",
   "metadata": {},
   "outputs": [],
   "source": [
    "# Q10. Write a Python program that takes an integer input n from the user and generates a right-angled triangle pattern of stars (*) with n rows. \n",
    "# The first row should contain 1 star, the second row 2 stars, the third row 3 stars, and so on until the nth row.\n",
    "# Ensure the stars in each row are separated by spaces, and each row starts on a new line.\n",
    "# # Pattern:\n",
    "# *\n",
    "# **\n",
    "# ***\n",
    "# ****\n",
    "# *****"
   ]
  },
  {
   "cell_type": "code",
   "execution_count": 33,
   "id": "44704ba4-7570-40ff-b6c8-4514969a6d3f",
   "metadata": {},
   "outputs": [
    {
     "name": "stdin",
     "output_type": "stream",
     "text": [
      "Enter the number to show right angle triangle pattern of stars  3\n"
     ]
    },
    {
     "name": "stdout",
     "output_type": "stream",
     "text": [
      "* \n",
      "* * \n",
      "* * * \n"
     ]
    }
   ],
   "source": [
    "n = int (input(\"Enter the number to show right angle triangle pattern of stars \"))\n",
    "\n",
    "for i in range (1,n+1):\n",
    "    print (\"* \" * i)"
   ]
  },
  {
   "cell_type": "code",
   "execution_count": null,
   "id": "bbc89c64-1a38-4e34-93b1-8896acb7ca53",
   "metadata": {},
   "outputs": [],
   "source": []
  }
 ],
 "metadata": {
  "kernelspec": {
   "display_name": "Python 3 (ipykernel)",
   "language": "python",
   "name": "python3"
  },
  "language_info": {
   "codemirror_mode": {
    "name": "ipython",
    "version": 3
   },
   "file_extension": ".py",
   "mimetype": "text/x-python",
   "name": "python",
   "nbconvert_exporter": "python",
   "pygments_lexer": "ipython3",
   "version": "3.12.7"
  }
 },
 "nbformat": 4,
 "nbformat_minor": 5
}
