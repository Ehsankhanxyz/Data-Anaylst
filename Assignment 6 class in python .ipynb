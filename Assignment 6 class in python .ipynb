{
 "cells": [
  {
   "cell_type": "code",
   "execution_count": 1,
   "id": "a61d1f3c-3cf9-4466-a6ec-416d0da64865",
   "metadata": {},
   "outputs": [],
   "source": [
    "#Q No 1\n",
    "# In a transportation system, we have two classes:\n",
    "# ● ElectricVehicle: A class that has a method charge() to charge the vehicle.\n",
    "# ● GasolineVehicle: A class that has a method fuel_up() to refuel the vehicle.\n",
    "# Create a class HybridCar that inherits from both ElectricVehicle and GasolineVehicle. The HybridCar\n",
    "# class should have a method drive() that prints a message showing the car is being driven. Instantiate an\n",
    "# object of class HybridCar and demonstrate the usage of charge(), fuel_up(), and drive().\n",
    "# Expected Output:\n",
    "# ● Charging the electric vehicle.\n",
    "# ● Filling up the gasoline tank.\n",
    "# ● Driving the hybrid car"
   ]
  },
  {
   "cell_type": "code",
   "execution_count": 2,
   "id": "b977fc3f-7392-4622-b6bd-247b58ac8490",
   "metadata": {},
   "outputs": [],
   "source": [
    "#class ElectricVehicle\n",
    "class ElectricVehicle:\n",
    "    def __init__(self, e_car):\n",
    "        self.e_car = e_car\n",
    "        \n",
    "    #method charge()\n",
    "    def charge(self):\n",
    "        print ( f' Charging the electric vehicle')\n",
    "        \n",
    "#class GasolineVehicle\n",
    "class GasolineVehicle:\n",
    "    def __init__(self, gas_car):\n",
    "        self.gas_car = gas_car\n",
    "        \n",
    "    #method fuel_up\n",
    "    def fuel_up(self):\n",
    "        print (f'Filling up the gasoline tank.')\n",
    "        \n",
    "#class HybridCar inherits from class: ElectricVehcile and Class: GasolineVehicle\n",
    "class HybridCar(ElectricVehicle, GasolineVehicle):\n",
    "    def __init__(self,e_car,gas_car,hybrid_car):\n",
    "        ElectricVehicle.__init__(self,e_car)\n",
    "        GasolineVehicle. __init__(self,gas_car)\n",
    "        self.hybrid = hybrid_car\n",
    "\n",
    "    #method drive()\n",
    "    def drive(self):\n",
    "        print(f' Driving the hybrid car')\n"
   ]
  },
  {
   "cell_type": "code",
   "execution_count": 3,
   "id": "64191d5b-0ffa-4c7e-a5a4-0cc73a1478de",
   "metadata": {},
   "outputs": [],
   "source": [
    "#object initiation of class HybridCar\n",
    "hyb_car = HybridCar('tesla', 'toyota',\"hybridcar\")"
   ]
  },
  {
   "cell_type": "code",
   "execution_count": 4,
   "id": "a9ecc894-213e-4353-8e5e-1a308314c10b",
   "metadata": {},
   "outputs": [
    {
     "name": "stdout",
     "output_type": "stream",
     "text": [
      " Driving the hybrid car\n"
     ]
    }
   ],
   "source": [
    "hyb_car.drive()"
   ]
  },
  {
   "cell_type": "code",
   "execution_count": 5,
   "id": "afbeb6f5-29c0-4201-bcf1-1a5506282ebd",
   "metadata": {},
   "outputs": [
    {
     "name": "stdout",
     "output_type": "stream",
     "text": [
      "Filling up the gasoline tank.\n"
     ]
    }
   ],
   "source": [
    "hyb_car.fuel_up()"
   ]
  },
  {
   "cell_type": "code",
   "execution_count": 6,
   "id": "66b3d7cb-24dc-47ee-ade1-c8455760abc3",
   "metadata": {},
   "outputs": [
    {
     "name": "stdout",
     "output_type": "stream",
     "text": [
      " Charging the electric vehicle\n"
     ]
    }
   ],
   "source": [
    "hyb_car.charge()"
   ]
  },
  {
   "cell_type": "code",
   "execution_count": 7,
   "id": "2a33aa5e-5113-4bf2-bb16-12c7e16f29c6",
   "metadata": {},
   "outputs": [],
   "source": [
    "# Question 2:\n",
    "# Create a class Animal with a method make_sound(), which prints \"Animal makes a sound\". Then, create\n",
    "# two subclasses:\n",
    "# ● Lion: Override the make_sound() method to print \"Roar\".\n",
    "# ● Cat: Override the make_sound() method to print \"Meow\".\n",
    "# Demonstrate polymorphism by calling make_sound() on instances of Lion and Cat"
   ]
  },
  {
   "cell_type": "code",
   "execution_count": 8,
   "id": "3cd03b89-d7e9-4543-9921-ed9466535ef5",
   "metadata": {},
   "outputs": [],
   "source": [
    "class Animal :\n",
    "    def make_sound(self):\n",
    "        print (\"Animal makes a sound\")\n",
    "class Lion (Animal):\n",
    "    def make_sound(self):\n",
    "        #Override the make_sound() method to print \"Roar\"\n",
    "        super().make_sound()\n",
    "        print (\"Roar\")\n",
    "\n",
    "class Cat(Animal):\n",
    "    def make_sound(self):\n",
    "        #Override the make_sound() method to print \"Meow\"\n",
    "        super().make_sound()\n",
    "        print (\"Meow\")"
   ]
  },
  {
   "cell_type": "code",
   "execution_count": 9,
   "id": "0c90ef4f-8be3-4617-94a9-69d2a86186a7",
   "metadata": {},
   "outputs": [],
   "source": [
    "lion = Lion()\n",
    "cat= Cat()"
   ]
  },
  {
   "cell_type": "code",
   "execution_count": 10,
   "id": "ccb5c233-0f31-4779-881e-7208670e270d",
   "metadata": {},
   "outputs": [
    {
     "name": "stdout",
     "output_type": "stream",
     "text": [
      "Animal makes a sound\n",
      "Roar\n"
     ]
    }
   ],
   "source": [
    "lion.make_sound()"
   ]
  },
  {
   "cell_type": "code",
   "execution_count": 11,
   "id": "5a218cea-e07c-4bed-9785-5882f3a93efd",
   "metadata": {},
   "outputs": [
    {
     "name": "stdout",
     "output_type": "stream",
     "text": [
      "Animal makes a sound\n",
      "Meow\n"
     ]
    }
   ],
   "source": [
    "cat.make_sound()"
   ]
  },
  {
   "cell_type": "code",
   "execution_count": 12,
   "id": "0125f321-7c8b-4275-9063-8e72aa072e72",
   "metadata": {},
   "outputs": [],
   "source": [
    "# Question 3:\n",
    "# Create an abstract class SmartHomeDevice with two abstract methods:\n",
    "# ● turn_on() (to turn the device on)\n",
    "# ● turn_off() (to turn the device off)\n",
    "# Then, create a Light class that inherits from SmartHomeDevice. Implement the methods turn_on() and\n",
    "# turn_off() for a light device. The turn_on() method should print \"Light is ON\", and the turn_off() method\n",
    "# should print \"Light is OFF\".\n",
    "# Write a Python program to control the light device in a smart home.\n",
    "# Expected Output:\n",
    "# ● Turning on the light...\n",
    "# ● Light is ON\n",
    "# ● Turning off the light...\n",
    "# ● Light is OFF"
   ]
  },
  {
   "cell_type": "code",
   "execution_count": 20,
   "id": "2db762f9-aa69-4edf-bf45-df7fc59db52b",
   "metadata": {},
   "outputs": [],
   "source": [
    "class SmartHomeDevice:\n",
    "    #abstract method turn_on()  \n",
    "    def turn_on(self):\n",
    "        pass\n",
    "        \n",
    "    #abstract method turn_off()\n",
    "    def turn_off(self):\n",
    "        pass\n",
    "        \n",
    "#create a Light class that inherits from SmartHomeDevice\n",
    "class Light(SmartHomeDevice):\n",
    "\n",
    "    def turn_on (self):\n",
    "        print (\"Turning on the light... \")\n",
    "        return \"Light is ON\"\n",
    "        \n",
    "    def turn_off(self):\n",
    "        print (\"Turning off the light...\")\n",
    "        return \"Light is OFF\"\n",
    "\n",
    "class Fan(SmartHomeDevice):\n",
    "    \n",
    "    def turn_on (self):\n",
    "        return \"Fan is ON\"\n",
    "\n",
    "    def turn_off(self):\n",
    "        return \"Fan is OFF\""
   ]
  },
  {
   "cell_type": "code",
   "execution_count": 27,
   "id": "5e0c9610-bf97-4a0f-be45-7b9a81310ae2",
   "metadata": {},
   "outputs": [],
   "source": [
    "# instantiate the light class anf fan class\n",
    "light = Light()\n",
    "fan = Fan()"
   ]
  },
  {
   "cell_type": "code",
   "execution_count": 28,
   "id": "513a770b-2e03-42e6-b7f3-19c8df44d438",
   "metadata": {},
   "outputs": [
    {
     "name": "stdout",
     "output_type": "stream",
     "text": [
      "Turning on the light... \n",
      "Light is ON\n",
      "Turning off the light...\n",
      "Light is OFF\n"
     ]
    }
   ],
   "source": [
    "print (light.turn_on())\n",
    "print (light.turn_off())"
   ]
  },
  {
   "cell_type": "code",
   "execution_count": 30,
   "id": "acbca82e-cc2a-4f73-9833-a307d847921c",
   "metadata": {},
   "outputs": [
    {
     "data": {
      "text/plain": [
       "'Fan is ON'"
      ]
     },
     "execution_count": 30,
     "metadata": {},
     "output_type": "execute_result"
    }
   ],
   "source": [
    "fan.turn_on()"
   ]
  },
  {
   "cell_type": "code",
   "execution_count": 31,
   "id": "35703d86-9925-4924-9a6a-041774ae96f9",
   "metadata": {},
   "outputs": [
    {
     "data": {
      "text/plain": [
       "'Fan is OFF'"
      ]
     },
     "execution_count": 31,
     "metadata": {},
     "output_type": "execute_result"
    }
   ],
   "source": [
    "fan.turn_off()"
   ]
  },
  {
   "cell_type": "code",
   "execution_count": 32,
   "id": "64c158e3-794c-4241-980d-90b92207a76a",
   "metadata": {},
   "outputs": [],
   "source": [
    "# Question 4:\n",
    "# Create a class Greeting with a method greet() that can handle different numbers of arguments.\n",
    "# ● If no argument is passed, it should print \"Hello!\".\n",
    "# ● If one argument (a name) is passed, it should print \"Hello, !\".\n",
    "# ● If two arguments (a name and a greeting) are passed, it should print the greeting with the name\n",
    "# (e.g., \"Good morning, !\").\n",
    "# Simulate method overloading using default arguments or variable-length arguments, and demonstrate\n",
    "# the polymorphic behavior by calling greet() with different numbers of arguments.\n",
    "# Expected Output:\n",
    "# ● Hello!\n",
    "# ● Hello, John!\n",
    "# ● Good morning, John!"
   ]
  },
  {
   "cell_type": "code",
   "execution_count": 287,
   "id": "c9b54962-40ab-4138-b373-00f6b3fa7c74",
   "metadata": {},
   "outputs": [],
   "source": [
    "class Greeting:\n",
    "    def greet(self, name = '', greeting = 'Hello'):\n",
    "        return (f' {greeting}, {name}!')"
   ]
  },
  {
   "cell_type": "code",
   "execution_count": 290,
   "id": "0f7ada4c-4030-45d3-8b48-66a7291cb92f",
   "metadata": {},
   "outputs": [],
   "source": [
    "Greet = Greeting()"
   ]
  },
  {
   "cell_type": "code",
   "execution_count": 293,
   "id": "9a03ed04-3b59-4656-8670-9e73d4fe46d2",
   "metadata": {},
   "outputs": [
    {
     "name": "stdout",
     "output_type": "stream",
     "text": [
      " Hello, !\n",
      " Hello, John!\n",
      " Good Morning, John!\n"
     ]
    }
   ],
   "source": [
    "# If no argument is passed, it should print \"Hello!\".\n",
    "print (Greet.greet())\n",
    "\n",
    "# If one argument (a name) is passed\n",
    "print (Greet.greet('John' ))\n",
    "\n",
    "# If two arguments (a name and a greeting) are passed\n",
    "print (Greet.greet(\"John\",\"Good Morning\"))"
   ]
  },
  {
   "cell_type": "code",
   "execution_count": 292,
   "id": "cc51a57a-92e3-408e-8283-402b52e0f96e",
   "metadata": {},
   "outputs": [],
   "source": [
    "# Question 5:\n",
    "# Create a class CarRental to manage the rental of cars.\n",
    "# ● The class should have private attributes for the car's name, price per day, and the number of\n",
    "# rental days.\n",
    "# ● Create a method to calculate the total rental cost and a method to set the rental days.\n",
    "# ● Use getter and setter methods for modifying and accessing the car's information.\n",
    "# Demonstrate encapsulation by creating an object of CarRental and calculating the total rental cost.\n",
    "# Expected Output:\n",
    "# ● Car Name: Toyota Camry\n",
    "# ● Price Per Day: $50\n",
    "# ● Rental Days: 5\n",
    "# ● Total Rental Cost: $250"
   ]
  },
  {
   "cell_type": "code",
   "execution_count": 373,
   "id": "201fe273-f0ad-4023-b729-78c48bb83de1",
   "metadata": {},
   "outputs": [],
   "source": [
    "class CarRental:\n",
    "    def __init__(self,car_name, price_per_day, rental_days):\n",
    "        self.__car_name = car_name\n",
    "        self.__price_per_day = price_per_day\n",
    "        self.__rental_days = rental_days\n",
    "\n",
    "    def get_price_per_day (self):\n",
    "        return self.__price_per_day\n",
    "        \n",
    "    def set_price_per_day (self, new_price_per_day):\n",
    "        self.__price_per_day = new_price_per_day\n",
    "        \n",
    "    def get_rental_days (self):\n",
    "        return self.__rental_days\n",
    "        \n",
    "    def set_rental_days (self, new_rental_days):\n",
    "        self.__rental_days = new_rental_days\n",
    "\n",
    "        \n",
    "    def tot_rental_cost(self):\n",
    "        total_rent_cost = self.__rental_days*self.__price_per_day\n",
    "        # return self.__price_per_day * self.__no_of_days\n",
    "        print ( f' Car Name : {self.__car_name}\\n Price Per Day: ${self.__price_per_day} \\n Rental Days: {self.__rental_days}\\n Total Rental Cost: ${total_rent_cost}')\n",
    "        "
   ]
  },
  {
   "cell_type": "code",
   "execution_count": 374,
   "id": "64e8b207-03bc-4100-b32f-3036821217d9",
   "metadata": {},
   "outputs": [],
   "source": [
    "car_rent = CarRental('Toyota Camry', 50, 5)"
   ]
  },
  {
   "cell_type": "code",
   "execution_count": 375,
   "id": "dec41660-9f38-4b71-8468-080c46d780d8",
   "metadata": {},
   "outputs": [
    {
     "name": "stdout",
     "output_type": "stream",
     "text": [
      " Car Name : Toyota Camry\n",
      " Price Per Day: $50 \n",
      " Rental Days: 5\n",
      " Total Rental Cost: $250\n"
     ]
    }
   ],
   "source": [
    "car_rent.tot_rental_cost()"
   ]
  },
  {
   "cell_type": "code",
   "execution_count": 376,
   "id": "76eb9e75-6c12-410d-bdd7-f01e510514e2",
   "metadata": {},
   "outputs": [],
   "source": [
    "car_rent.set_rental_days(10)"
   ]
  },
  {
   "cell_type": "code",
   "execution_count": 377,
   "id": "bed8eeee-3de7-4e5c-b107-2970f5806a1b",
   "metadata": {},
   "outputs": [
    {
     "data": {
      "text/plain": [
       "10"
      ]
     },
     "execution_count": 377,
     "metadata": {},
     "output_type": "execute_result"
    }
   ],
   "source": [
    "car_rent.get_rental_days()"
   ]
  },
  {
   "cell_type": "code",
   "execution_count": 378,
   "id": "b9faebf7-ceae-4d6a-aa16-388171476c9f",
   "metadata": {},
   "outputs": [
    {
     "name": "stdout",
     "output_type": "stream",
     "text": [
      " Car Name : Toyota Camry\n",
      " Price Per Day: $50 \n",
      " Rental Days: 10\n",
      " Total Rental Cost: $500\n"
     ]
    }
   ],
   "source": [
    "car_rent.tot_rental_cost()"
   ]
  },
  {
   "cell_type": "code",
   "execution_count": 365,
   "id": "8ce41fed-7194-4cb6-b096-e3a192cbde3f",
   "metadata": {},
   "outputs": [
    {
     "data": {
      "text/plain": [
       "50"
      ]
     },
     "execution_count": 365,
     "metadata": {},
     "output_type": "execute_result"
    }
   ],
   "source": [
    "car_rent.get_price_per_day()"
   ]
  },
  {
   "cell_type": "code",
   "execution_count": 379,
   "id": "1974e81e-0273-4c6f-953d-ebde354dfee4",
   "metadata": {},
   "outputs": [],
   "source": [
    "car_rent.set_price_per_day(40)"
   ]
  },
  {
   "cell_type": "code",
   "execution_count": 380,
   "id": "cbc4fa7e-7c96-4d0f-980a-504dfb97bfba",
   "metadata": {},
   "outputs": [
    {
     "data": {
      "text/plain": [
       "40"
      ]
     },
     "execution_count": 380,
     "metadata": {},
     "output_type": "execute_result"
    }
   ],
   "source": [
    "car_rent.get_price_per_day()"
   ]
  },
  {
   "cell_type": "code",
   "execution_count": 381,
   "id": "7c1c9625-4405-47c9-b7b0-365de67832fd",
   "metadata": {},
   "outputs": [
    {
     "name": "stdout",
     "output_type": "stream",
     "text": [
      " Car Name : Toyota Camry\n",
      " Price Per Day: $40 \n",
      " Rental Days: 10\n",
      " Total Rental Cost: $400\n"
     ]
    }
   ],
   "source": [
    "car_rent.tot_rental_cost()"
   ]
  },
  {
   "cell_type": "code",
   "execution_count": null,
   "id": "25942f77-5d2a-4db2-8dc0-c3ad0ef0cdf4",
   "metadata": {},
   "outputs": [],
   "source": []
  }
 ],
 "metadata": {
  "kernelspec": {
   "display_name": "Python 3 (ipykernel)",
   "language": "python",
   "name": "python3"
  },
  "language_info": {
   "codemirror_mode": {
    "name": "ipython",
    "version": 3
   },
   "file_extension": ".py",
   "mimetype": "text/x-python",
   "name": "python",
   "nbconvert_exporter": "python",
   "pygments_lexer": "ipython3",
   "version": "3.12.7"
  }
 },
 "nbformat": 4,
 "nbformat_minor": 5
}
