{
 "cells": [
  {
   "cell_type": "code",
   "execution_count": 51,
   "id": "316fa56d-06dc-4ad3-9aea-5392cc5bb2f9",
   "metadata": {},
   "outputs": [
    {
     "name": "stdin",
     "output_type": "stream",
     "text": [
      "Enter your age 44\n",
      "Enter you credit score 730\n",
      "Enter your yearly income 25000\n"
     ]
    },
    {
     "name": "stdout",
     "output_type": "stream",
     "text": [
      "You are eligible for Loan\n"
     ]
    }
   ],
   "source": [
    "#Q No 1: . Write program to check a person’s eligibility for a loan based on age, credit score, and income. \n",
    "#This time, the eligibility criteria will be:\n",
    "#The person must be 18 years or older. The person must have a credit score of 650 or higher. \n",
    "#The person must have an annual income of at least 30000 dollars If the person has a credit score of 700 or higher, \n",
    "#they may still be eligible with an income of 25000 dollars or more.\n",
    "\n",
    "\n",
    "age = int (input('Enter your age'))\n",
    "credit_score = int (input(\"Enter you credit score\"))\n",
    "income = int(input('Enter your yearly income'))\n",
    "\n",
    "if age>= 18:\n",
    "    if credit_score >= 650 and income >= 30000:\n",
    "        print (\"You are eligible for Loan\")\n",
    "    elif credit_score<650 and income<30000:\n",
    "        print(\"You are not eligible for Loan\")\n",
    "    elif credit_score >=700 and income >=25000:\n",
    "        print (\"You are eligible for Loan\")\n",
    "    else:\n",
    "        print (\"You are not eligible for Loan\")\n",
    "else:\n",
    "    print (\"You are not eligible for Loan : Underage\")"
   ]
  },
  {
   "cell_type": "code",
   "execution_count": 76,
   "id": "4681217b-c568-4db6-b52c-5a73e852b567",
   "metadata": {},
   "outputs": [
    {
     "name": "stdin",
     "output_type": "stream",
     "text": [
      "Enter you age: 33\n",
      "Enter your years of experience 5\n"
     ]
    },
    {
     "name": "stdout",
     "output_type": "stream",
     "text": [
      "You have moderate experience.\n"
     ]
    }
   ],
   "source": [
    "#Q 2: Write a Python program that checks if a person is an adult (age ≥ 18)\n",
    "#Take the age as input.\n",
    "#If the person is underage (age < 18), show message: \"You are underage\" and don't ask for experience.\n",
    "#If the person is an adult, take years of experience as input and print:\n",
    "#\"You have a lot of experience.\" (10+ years)\n",
    "#\"You have moderate experience.\" (5-9 years)\n",
    "#\"You are relatively new.\" (2-4 years)\n",
    "#\"You are just starting out.\" (less than 2 years)\n",
    "\n",
    "age = int (input('Enter you age:'))\n",
    "\n",
    "if age< 18:\n",
    "    print (\"You are underage.\")\n",
    "elif age>= 18:\n",
    "    exp = int (input('Enter your years of experience'))\n",
    "    if exp >=10:\n",
    "        print ('You have a lot of experience.')\n",
    "    elif (exp>=5) and (exp <=9) :\n",
    "        print ('You have moderate experience.')\n",
    "    elif (exp>=2) and (exp<=4 ):\n",
    "        print (\"You are relatively new\")\n",
    "    elif exp <2 :\n",
    "        print ('You are just starting out')\n",
    "else:\n",
    "    print ('Error')"
   ]
  },
  {
   "cell_type": "code",
   "execution_count": 103,
   "id": "88d1acc3-c6a0-484f-8afb-16e247fbb1cb",
   "metadata": {},
   "outputs": [
    {
     "name": "stdout",
     "output_type": "stream",
     "text": [
      "140724546186360\n",
      "140724546186360\n",
      "True\n",
      "28\n",
      "28\n",
      "88\n",
      "47\n",
      "<class 'int'>\n"
     ]
    }
   ],
   "source": [
    "#Q3:Write a program to explore below variables\n",
    "#a) Print their memory address (to check if python assigns same address of different variables having same element)\n",
    "#b) Find memory size and append them in a list, use this list to find data type having least memory size\n",
    "#c) Print final name of data type which has lowest memory\n",
    "#Result will help a programmer to decide which variable is storing less memory and variable locations\n",
    "\n",
    "a = 23\n",
    "b = 23\n",
    "c= [1,2,3]\n",
    "d = 'python'\n",
    "\n",
    "#a) Print their memory address\n",
    "print (id(a))\n",
    "print (id(b))\n",
    "print ( a is b)\n",
    "\n",
    "#Find memory size and append them in a list, use this list to find data type having least memory size\n",
    "import sys\n",
    "print (sys.getsizeof(a))\n",
    "print (sys.getsizeof(b))\n",
    "print (sys.getsizeof (c))\n",
    "print (sys.getsizeof(d))\n",
    "\n",
    "e = [sys.getsizeof(a), sys.getsizeof(b), sys.getsizeof (c), sys.getsizeof (d)]\n",
    "\n",
    "print ( type (e[1]))\n",
    "#Intergers have less memory as compare to other \n"
   ]
  },
  {
   "cell_type": "code",
   "execution_count": 107,
   "id": "91dcfb8f-0a31-4d66-b2b5-2ffb4a3dfdb6",
   "metadata": {},
   "outputs": [
    {
     "name": "stdin",
     "output_type": "stream",
     "text": [
      "Enter you email address ahsankhan@gmail.co\n"
     ]
    },
    {
     "name": "stdout",
     "output_type": "stream",
     "text": [
      "Email format is valid\n"
     ]
    }
   ],
   "source": [
    "#Q 4:Write a Python program that asks the user to enter an email address. \n",
    "#The program should check if the email contains the characters @ and \".\" (ignoring case). \n",
    "#If either character is present, print \"Email format is valid.\" Otherwise, print \"Invalid email format.\"\n",
    "\n",
    "email = input ('Enter you email address')\n",
    "\n",
    "if \"@\" in email and '.' in email:\n",
    "    print ('Email format is valid')\n",
    "else:\n",
    "    print ('Invalid email format')"
   ]
  },
  {
   "cell_type": "code",
   "execution_count": 123,
   "id": "dccbb665-ea1d-4ca7-92c0-fae89071c69c",
   "metadata": {},
   "outputs": [
    {
     "name": "stdout",
     "output_type": "stream",
     "text": [
      "<class 'tuple'>\n",
      "<class 'float'>\n",
      "<class 'str'>\n",
      "<class 'list'>\n",
      "<class 'tuple'>\n",
      "[<class 'int'>, <class 'float'>, <class 'str'>, <class 'list'>, <class 'tuple'>]\n",
      "[11, 22.333, 'apple', [1, 2, 3], ('a', 'b')]\n"
     ]
    }
   ],
   "source": [
    "#Q5 :Write a python program to know data type of each element stored in a tuple, append the data types in a list.\n",
    "#Show final output in a list as data types of tuple elements\n",
    "#x = (11,22.333,'apple',[1,2,3],('a','b'))\n",
    "\n",
    "x = (11,22.333,'apple',[1,2,3],('a','b'))\n",
    "\n",
    "print (type (x))\n",
    "type (x[0])\n",
    "print (type (x[1]))\n",
    "print (type (x[2]))\n",
    "print (type (x[3]))\n",
    "print (type (x[4]))\n",
    "\n",
    "y = [ x[0], x[1],x [2], x[3], x[4]]\n",
    "z = [ type(x[0]), type (x[1]), type (x[2]), type (x[3]), type(x[4])]\n",
    "\n",
    "print (z)\n",
    "print (y)"
   ]
  },
  {
   "cell_type": "code",
   "execution_count": 83,
   "id": "92e821b1-9493-49bc-87e4-dd028c8c5e8a",
   "metadata": {},
   "outputs": [
    {
     "name": "stdin",
     "output_type": "stream",
     "text": [
      "Enter a username zaman\n"
     ]
    },
    {
     "name": "stdout",
     "output_type": "stream",
     "text": [
      "User already exits\n",
      "user is a Moderator!\n"
     ]
    }
   ],
   "source": [
    "#Q6: Write a Python program that:\n",
    "# Checks if a given username exists in a list of active users.\n",
    "# Verifies if the user is the admin using identity operators.\n",
    "# Hints:\n",
    "# Use a list of tuples where each tuple contains a username and role\n",
    "# [(\"alice\", \"admin\"),\n",
    "# (\"bob\", \"user\"),\n",
    "# (\"charlie\", \"moderator\")]\n",
    "# Use the in operator to check if the username exists in the list.\n",
    "# Use the is operator to check if the user is the admin (admin is a specific reference, e.g., (\"alice\", \"admin\")).\n",
    "\n",
    "active_users = [\n",
    "    (\"alice\", \"admin\"), \n",
    "    (\"bob\", \"user\"),\n",
    "    (\"charlie\", \"user\"),\n",
    "    (\"shan\", \"user\"),\n",
    "    (\"zaman\", \"moderator\"), \n",
    "]\n",
    "user_input= input('Enter a username')\n",
    "\n",
    "admin_user = ('alice', 'admin')\n",
    "user_exists = (user_input, 'admin')\n",
    "\n",
    "#to check user exits in the list\n",
    "if (user_input,\"admin\") in active_users or (user_input,\"user\") in active_users or (user_input,\"moderator\") in active_users:\n",
    "    print ('User already exits')\n",
    "    #To check for an admin\n",
    "    if user_exists[0] == admin_user[0]:\n",
    "        print (user_input, 'is an admin')\n",
    "    #To check for moderator (additional from my side)\n",
    "    elif (user_input,\"moderator\") in active_users:\n",
    "        print (\"user is a Moderator!\")\n",
    "else:\n",
    "    print (\"User does not exist\")"
   ]
  },
  {
   "cell_type": "code",
   "execution_count": 140,
   "id": "264a7e66-e1a1-46c4-b269-c7480b336553",
   "metadata": {},
   "outputs": [
    {
     "name": "stdout",
     "output_type": "stream",
     "text": [
      "1827106995776\n",
      "1827106995776\n",
      "1827129718656\n",
      "Siblings\n"
     ]
    }
   ],
   "source": [
    "#Q7 : Person1 has same family as of person2, write a program to print relation between person1 and person2, \n",
    "#if their data is ['father name','mother name','district','family number'] same (Print relation 'Siblings') \n",
    "#also check person1 data with person3 which is cousin of person1 (Print relation 'Cousin')\n",
    "# Hint:\n",
    "# Use identity operator \n",
    "\n",
    "person1 = ['father name','mother name','district','family number'] \n",
    "person2 = person1\n",
    "person3 = ['father name','mother name','district','family number'] \n",
    "\n",
    "print (id(person1))\n",
    "print (id(person2))\n",
    "print (id(person3))\n",
    "\n",
    "if person1 is person2:\n",
    "    print (\"Siblings\")\n",
    "elif person1 is person3:\n",
    "    print (\"Cousins\")\n",
    "else:\n",
    "    print (\"Error\")"
   ]
  },
  {
   "cell_type": "code",
   "execution_count": 145,
   "id": "dd7e695e-8205-45ee-83bd-9e3f043eb395",
   "metadata": {},
   "outputs": [
    {
     "name": "stdin",
     "output_type": "stream",
     "text": [
      "Enter the book title Peer e Kamil\n",
      "Enter the book author Umera Ahmed\n",
      "Enter the pubication year 2004\n",
      "Enter the price of the book 300\n"
     ]
    },
    {
     "name": "stdout",
     "output_type": "stream",
     "text": [
      "\n",
      "Book Details:\n",
      "Title Peer e Kamil\n",
      "Author Umera Ahmed\n",
      "Year 2004\n",
      "Price $ 300.0\n",
      "('Peer e Kamil', 'Umera Ahmed', 2004, 300.0)\n"
     ]
    }
   ],
   "source": [
    "#Q8 : Write a Python program to store and display a book's title, author, year of publication, and price using a tuple.\n",
    "#Instructions:\n",
    "# Create a tuple to store the book details.\n",
    "# Ask the user for the book's title, author, year, and price.\n",
    "# Display the stored book information.\n",
    "\n",
    "title = input (\"Enter the book title\")\n",
    "author = input (\"Enter the book author\")\n",
    "year = int(input('Enter the pubication year'))\n",
    "price = float(input('Enter the price of the book'))\n",
    "\n",
    "book_details = (title, author,year,price)\n",
    "print ('\\nBook Details:')\n",
    "print (\"Title\", book_details[0])\n",
    "print ('Author', book_details[1])\n",
    "print ('Year', book_details[2])\n",
    "print ('Price $', book_details[3])\n",
    "\n",
    "print (book_details)"
   ]
  },
  {
   "cell_type": "code",
   "execution_count": 207,
   "id": "62d8100b-2291-4339-9148-95607201fc0b",
   "metadata": {},
   "outputs": [
    {
     "name": "stdin",
     "output_type": "stream",
     "text": [
      "Enter your required subj Math\n"
     ]
    },
    {
     "name": "stdout",
     "output_type": "stream",
     "text": [
      "Your selected subject is available\n"
     ]
    }
   ],
   "source": [
    "#Q9: Write a program to check if a user’s chosen subject is available in the list of offered subjects.\n",
    "# Instructions:\n",
    "# Given a list of subjects, ask the user to input a subject.\n",
    "# Display whether the subject is available or not\n",
    "\n",
    "subj = ['Math', 'General knowledge', 'Programming', \"Computer Science\", \"Urdu Language\", \"English Literature\", \"Current Affairs\"]\n",
    "#To check ask subj is avail or not\n",
    "\n",
    "reqsubj = input (\"Enter your required subj\")\n",
    "\n",
    "if reqsubj in subj:\n",
    "    print (\"Your selected subject is available\")\n",
    "else:\n",
    "    print (\"Subject not available\")"
   ]
  },
  {
   "cell_type": "code",
   "execution_count": 206,
   "id": "326a6e2d-917c-4554-81dc-2fda07977744",
   "metadata": {},
   "outputs": [
    {
     "name": "stdin",
     "output_type": "stream",
     "text": [
      "Enter any number to check its index 33\n"
     ]
    },
    {
     "name": "stdout",
     "output_type": "stream",
     "text": [
      "33 Not found in List\n"
     ]
    },
    {
     "name": "stdin",
     "output_type": "stream",
     "text": [
      "Enter another number to find its number of occurance 34\n"
     ]
    },
    {
     "name": "stdout",
     "output_type": "stream",
     "text": [
      "34 Not found in list\n"
     ]
    }
   ],
   "source": [
    "#Q10:  Write a Python program that performs the following tasks using tuple methods\n",
    "# Create a tuple with multiple integer values, including duplicates.\n",
    "# Prompt the user to input a number and find the index of its first occurrence in the tuple.\n",
    "# Ask the user for another number and count how many times it appears in the tuple.\n",
    "# Display appropriate messages based on the results\n",
    "\n",
    "a = (12, 10, 10, 10,10,15,100,15, 20, 25,25,5, 15)\n",
    "b = int(input('Enter any number to check its index'))\n",
    "\n",
    "if b in a:\n",
    "    #if a.index (b):\n",
    "    print (b, 'Number index is', (a.index(b)))\n",
    "else:\n",
    "    print (b,\"Not found in List\")\n",
    "c = int (input(\"Enter another number to find its number of occurance\"))\n",
    "if c in a:\n",
    "    #if a.count(c):\n",
    "        print ( c,\"Number Occurance is\", (a.count(c)))\n",
    "else:\n",
    "    print (c,\"Not found in list\")"
   ]
  },
  {
   "cell_type": "code",
   "execution_count": null,
   "id": "7fcde153-0fab-4e3f-b151-c9843d2285ab",
   "metadata": {},
   "outputs": [],
   "source": [
    "\n"
   ]
  },
  {
   "cell_type": "code",
   "execution_count": null,
   "id": "02826af5-d455-45a9-9d06-364f4c803ef2",
   "metadata": {},
   "outputs": [],
   "source": []
  }
 ],
 "metadata": {
  "kernelspec": {
   "display_name": "Python 3 (ipykernel)",
   "language": "python",
   "name": "python3"
  },
  "language_info": {
   "codemirror_mode": {
    "name": "ipython",
    "version": 3
   },
   "file_extension": ".py",
   "mimetype": "text/x-python",
   "name": "python",
   "nbconvert_exporter": "python",
   "pygments_lexer": "ipython3",
   "version": "3.12.7"
  }
 },
 "nbformat": 4,
 "nbformat_minor": 5
}
