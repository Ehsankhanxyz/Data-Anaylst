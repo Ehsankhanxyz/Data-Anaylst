{
 "cells": [
  {
   "cell_type": "code",
   "execution_count": 1,
   "id": "115eca99-fa9e-44c8-a0e5-2dff6fdeddbf",
   "metadata": {},
   "outputs": [
    {
     "name": "stdout",
     "output_type": "stream",
     "text": [
      "Hello World\n"
     ]
    }
   ],
   "source": [
    "print (\"Hello World\")"
   ]
  },
  {
   "cell_type": "code",
   "execution_count": 2,
   "id": "fa787b1a-29ab-4a67-91c5-36899c56e89c",
   "metadata": {},
   "outputs": [
    {
     "name": "stdout",
     "output_type": "stream",
     "text": [
      "Ahsan\n"
     ]
    }
   ],
   "source": [
    "print (\"Ahsan\")"
   ]
  },
  {
   "cell_type": "code",
   "execution_count": 3,
   "id": "da9cdd4b-c569-4373-9fa7-c14fe1aca939",
   "metadata": {},
   "outputs": [],
   "source": [
    "#Heading "
   ]
  },
  {
   "cell_type": "markdown",
   "id": "2403d292-5a82-4b8a-b98e-05f07355a837",
   "metadata": {},
   "source": [
    "#Heading 1"
   ]
  },
  {
   "cell_type": "markdown",
   "id": "b78bb0c7-a400-4462-a473-84948ac72499",
   "metadata": {},
   "source": [
    "##Heading 2"
   ]
  },
  {
   "cell_type": "code",
   "execution_count": 4,
   "id": "72f6a307-d493-4a26-83b8-257ff31b485a",
   "metadata": {},
   "outputs": [
    {
     "name": "stdout",
     "output_type": "stream",
     "text": [
      "12\n"
     ]
    }
   ],
   "source": [
    "print (12)"
   ]
  },
  {
   "cell_type": "code",
   "execution_count": 5,
   "id": "f5e05a96-36aa-414e-81ca-63dd0bf0751e",
   "metadata": {},
   "outputs": [
    {
     "ename": "NameError",
     "evalue": "name 'string' is not defined",
     "output_type": "error",
     "traceback": [
      "\u001b[1;31m---------------------------------------------------------------------------\u001b[0m",
      "\u001b[1;31mNameError\u001b[0m                                 Traceback (most recent call last)",
      "Cell \u001b[1;32mIn[5], line 1\u001b[0m\n\u001b[1;32m----> 1\u001b[0m \u001b[38;5;28mprint\u001b[39m (string)\n",
      "\u001b[1;31mNameError\u001b[0m: name 'string' is not defined"
     ]
    }
   ],
   "source": [
    "print (string)"
   ]
  },
  {
   "cell_type": "code",
   "execution_count": 6,
   "id": "501b35d8-fb17-4152-98e6-0471ff378348",
   "metadata": {},
   "outputs": [
    {
     "name": "stdout",
     "output_type": "stream",
     "text": [
      "String\n"
     ]
    }
   ],
   "source": [
    "print (\"String\")"
   ]
  },
  {
   "cell_type": "code",
   "execution_count": 7,
   "id": "76c7e97d-0115-4fea-ac1a-4c2c3d28863c",
   "metadata": {},
   "outputs": [
    {
     "name": "stdout",
     "output_type": "stream",
     "text": [
      "1234\n"
     ]
    }
   ],
   "source": [
    "print (\"1234\")"
   ]
  },
  {
   "cell_type": "code",
   "execution_count": 8,
   "id": "b73b8d93-a914-4d3d-8d4b-91edf85d319f",
   "metadata": {},
   "outputs": [
    {
     "name": "stdout",
     "output_type": "stream",
     "text": [
      "<class 'int'>\n"
     ]
    }
   ],
   "source": [
    "print (type (1234))"
   ]
  },
  {
   "cell_type": "code",
   "execution_count": 9,
   "id": "7e64df86-8914-4e6a-bc15-aa524e38f3cd",
   "metadata": {},
   "outputs": [
    {
     "ename": "NameError",
     "evalue": "name 'String' is not defined",
     "output_type": "error",
     "traceback": [
      "\u001b[1;31m---------------------------------------------------------------------------\u001b[0m",
      "\u001b[1;31mNameError\u001b[0m                                 Traceback (most recent call last)",
      "Cell \u001b[1;32mIn[9], line 1\u001b[0m\n\u001b[1;32m----> 1\u001b[0m \u001b[38;5;28mprint\u001b[39m (\u001b[38;5;28mtype\u001b[39m (String (\u001b[38;5;241m456\u001b[39m)))\n",
      "\u001b[1;31mNameError\u001b[0m: name 'String' is not defined"
     ]
    }
   ],
   "source": [
    "print (type (String (456)))"
   ]
  },
  {
   "cell_type": "code",
   "execution_count": 10,
   "id": "1fd57523-6648-4a95-a93d-0d6b018677c6",
   "metadata": {},
   "outputs": [
    {
     "data": {
      "text/plain": [
       "10"
      ]
     },
     "execution_count": 10,
     "metadata": {},
     "output_type": "execute_result"
    }
   ],
   "source": [
    "4+6"
   ]
  },
  {
   "cell_type": "raw",
   "id": "eafbe2bc-9cac-44aa-b284-f9e32fce0cae",
   "metadata": {},
   "source": [
    "print ()"
   ]
  },
  {
   "cell_type": "code",
   "execution_count": 11,
   "id": "c9037bfc-eae4-4cec-ba0d-017af7a7c7cc",
   "metadata": {},
   "outputs": [
    {
     "name": "stdout",
     "output_type": "stream",
     "text": [
      "56\n"
     ]
    }
   ],
   "source": [
    "print (\"5\"+ \"6\")"
   ]
  },
  {
   "cell_type": "code",
   "execution_count": 12,
   "id": "9a989176-5110-40dd-beff-69c6ba19d1c6",
   "metadata": {},
   "outputs": [
    {
     "name": "stdout",
     "output_type": "stream",
     "text": [
      "This is string\n"
     ]
    }
   ],
   "source": [
    "print (\"This is string\")"
   ]
  },
  {
   "cell_type": "code",
   "execution_count": 13,
   "id": "22995423-d52d-45ed-ae37-d27f8bfc9c90",
   "metadata": {},
   "outputs": [
    {
     "name": "stdout",
     "output_type": "stream",
     "text": [
      "This is String\n"
     ]
    }
   ],
   "source": [
    "print (\"This is String\")"
   ]
  },
  {
   "cell_type": "code",
   "execution_count": 14,
   "id": "400c9756-cf05-48f6-afd3-a746372510f9",
   "metadata": {},
   "outputs": [],
   "source": [
    "name = \"Ahsan\""
   ]
  },
  {
   "cell_type": "code",
   "execution_count": 15,
   "id": "72f42e8e-928f-43bb-bb20-29da8639348b",
   "metadata": {},
   "outputs": [
    {
     "data": {
      "text/plain": [
       "'Ahsan'"
      ]
     },
     "execution_count": 15,
     "metadata": {},
     "output_type": "execute_result"
    }
   ],
   "source": [
    "name"
   ]
  },
  {
   "cell_type": "code",
   "execution_count": 16,
   "id": "31577f0b-6e16-4147-9713-5db1f629c3f9",
   "metadata": {},
   "outputs": [
    {
     "name": "stdout",
     "output_type": "stream",
     "text": [
      "Ahsan\n"
     ]
    }
   ],
   "source": [
    "print (name)"
   ]
  },
  {
   "cell_type": "code",
   "execution_count": 17,
   "id": "9b8948b9-2cb3-4268-9231-dd32bb8415b2",
   "metadata": {},
   "outputs": [
    {
     "data": {
      "text/plain": [
       "'Ahsan'"
      ]
     },
     "execution_count": 17,
     "metadata": {},
     "output_type": "execute_result"
    }
   ],
   "source": [
    "name"
   ]
  },
  {
   "cell_type": "code",
   "execution_count": 18,
   "id": "42df45e9-5678-456a-8533-7a0b57b1561c",
   "metadata": {},
   "outputs": [
    {
     "name": "stdout",
     "output_type": "stream",
     "text": [
      "Ahsan\n"
     ]
    }
   ],
   "source": [
    "print (name)"
   ]
  },
  {
   "cell_type": "code",
   "execution_count": 19,
   "id": "dbfc2d4b-abc0-4c27-8bf1-8289534cd2e8",
   "metadata": {},
   "outputs": [
    {
     "data": {
      "text/plain": [
       "['__add__',\n",
       " '__class__',\n",
       " '__contains__',\n",
       " '__delattr__',\n",
       " '__dir__',\n",
       " '__doc__',\n",
       " '__eq__',\n",
       " '__format__',\n",
       " '__ge__',\n",
       " '__getattribute__',\n",
       " '__getitem__',\n",
       " '__getnewargs__',\n",
       " '__getstate__',\n",
       " '__gt__',\n",
       " '__hash__',\n",
       " '__init__',\n",
       " '__init_subclass__',\n",
       " '__iter__',\n",
       " '__le__',\n",
       " '__len__',\n",
       " '__lt__',\n",
       " '__mod__',\n",
       " '__mul__',\n",
       " '__ne__',\n",
       " '__new__',\n",
       " '__reduce__',\n",
       " '__reduce_ex__',\n",
       " '__repr__',\n",
       " '__rmod__',\n",
       " '__rmul__',\n",
       " '__setattr__',\n",
       " '__sizeof__',\n",
       " '__str__',\n",
       " '__subclasshook__',\n",
       " 'capitalize',\n",
       " 'casefold',\n",
       " 'center',\n",
       " 'count',\n",
       " 'encode',\n",
       " 'endswith',\n",
       " 'expandtabs',\n",
       " 'find',\n",
       " 'format',\n",
       " 'format_map',\n",
       " 'index',\n",
       " 'isalnum',\n",
       " 'isalpha',\n",
       " 'isascii',\n",
       " 'isdecimal',\n",
       " 'isdigit',\n",
       " 'isidentifier',\n",
       " 'islower',\n",
       " 'isnumeric',\n",
       " 'isprintable',\n",
       " 'isspace',\n",
       " 'istitle',\n",
       " 'isupper',\n",
       " 'join',\n",
       " 'ljust',\n",
       " 'lower',\n",
       " 'lstrip',\n",
       " 'maketrans',\n",
       " 'partition',\n",
       " 'removeprefix',\n",
       " 'removesuffix',\n",
       " 'replace',\n",
       " 'rfind',\n",
       " 'rindex',\n",
       " 'rjust',\n",
       " 'rpartition',\n",
       " 'rsplit',\n",
       " 'rstrip',\n",
       " 'split',\n",
       " 'splitlines',\n",
       " 'startswith',\n",
       " 'strip',\n",
       " 'swapcase',\n",
       " 'title',\n",
       " 'translate',\n",
       " 'upper',\n",
       " 'zfill']"
      ]
     },
     "execution_count": 19,
     "metadata": {},
     "output_type": "execute_result"
    }
   ],
   "source": [
    "dir(str)"
   ]
  },
  {
   "cell_type": "code",
   "execution_count": 20,
   "id": "d9f3d808-ef97-497f-a159-558e8e83300d",
   "metadata": {},
   "outputs": [],
   "source": [
    "var1 = \"this is variable\""
   ]
  },
  {
   "cell_type": "code",
   "execution_count": 21,
   "id": "ef26f479-7efe-4fd9-9f59-32b3701b9c4e",
   "metadata": {},
   "outputs": [
    {
     "data": {
      "text/plain": [
       "'this is variable'"
      ]
     },
     "execution_count": 21,
     "metadata": {},
     "output_type": "execute_result"
    }
   ],
   "source": [
    "var1"
   ]
  },
  {
   "cell_type": "code",
   "execution_count": 22,
   "id": "2bbb8223-9922-4351-ab8f-34fe907f0892",
   "metadata": {},
   "outputs": [
    {
     "data": {
      "text/plain": [
       "'THIS IS VARIABLE'"
      ]
     },
     "execution_count": 22,
     "metadata": {},
     "output_type": "execute_result"
    }
   ],
   "source": [
    "var1.upper()"
   ]
  },
  {
   "cell_type": "code",
   "execution_count": 23,
   "id": "03917e8a-a2ed-459d-890f-74afc84711a7",
   "metadata": {},
   "outputs": [
    {
     "data": {
      "text/plain": [
       "<function str.upper()>"
      ]
     },
     "execution_count": 23,
     "metadata": {},
     "output_type": "execute_result"
    }
   ],
   "source": [
    "var1.upper"
   ]
  },
  {
   "cell_type": "code",
   "execution_count": 24,
   "id": "c6d7207b-27a4-4d03-b792-e0b2d7c2fa02",
   "metadata": {},
   "outputs": [
    {
     "data": {
      "text/plain": [
       "'THIS IS VARIABLE'"
      ]
     },
     "execution_count": 24,
     "metadata": {},
     "output_type": "execute_result"
    }
   ],
   "source": [
    "var1.upper()"
   ]
  },
  {
   "cell_type": "code",
   "execution_count": 25,
   "id": "f4e46580-654f-4ec3-8717-bde1dc457580",
   "metadata": {},
   "outputs": [
    {
     "data": {
      "text/plain": [
       "'this is variable'"
      ]
     },
     "execution_count": 25,
     "metadata": {},
     "output_type": "execute_result"
    }
   ],
   "source": [
    "var1"
   ]
  },
  {
   "cell_type": "code",
   "execution_count": 26,
   "id": "d973f48e-711e-479c-8f6b-138c3b2a201f",
   "metadata": {},
   "outputs": [],
   "source": [
    "var1cap = var1.upper()"
   ]
  },
  {
   "cell_type": "code",
   "execution_count": 27,
   "id": "2b569a66-5b9d-4925-856c-b5bf3e3e37c5",
   "metadata": {},
   "outputs": [
    {
     "data": {
      "text/plain": [
       "'THIS IS VARIABLE'"
      ]
     },
     "execution_count": 27,
     "metadata": {},
     "output_type": "execute_result"
    }
   ],
   "source": [
    "var1cap"
   ]
  },
  {
   "cell_type": "code",
   "execution_count": 28,
   "id": "dd472e83-e6c3-49c6-b545-2fb3d309bc95",
   "metadata": {},
   "outputs": [],
   "source": [
    "#variable save to a new varialbe name var1cap"
   ]
  },
  {
   "cell_type": "code",
   "execution_count": 29,
   "id": "5725c3a3-09ae-4cf6-94ca-88b7cc49193b",
   "metadata": {},
   "outputs": [],
   "source": [
    "age =23"
   ]
  },
  {
   "cell_type": "code",
   "execution_count": 30,
   "id": "34234de2-3dff-49dd-ae34-e2113072413e",
   "metadata": {},
   "outputs": [
    {
     "data": {
      "text/plain": [
       "23"
      ]
     },
     "execution_count": 30,
     "metadata": {},
     "output_type": "execute_result"
    }
   ],
   "source": [
    "age"
   ]
  },
  {
   "cell_type": "code",
   "execution_count": 31,
   "id": "1569e954-0af8-42bc-a138-4a1ae5f61dc4",
   "metadata": {},
   "outputs": [],
   "source": [
    "ahsanage = 29"
   ]
  },
  {
   "cell_type": "code",
   "execution_count": 32,
   "id": "d8958b45-b9cc-4a1a-94ce-a7e9f3637e4e",
   "metadata": {},
   "outputs": [
    {
     "data": {
      "text/plain": [
       "29"
      ]
     },
     "execution_count": 32,
     "metadata": {},
     "output_type": "execute_result"
    }
   ],
   "source": [
    "ahsanage"
   ]
  },
  {
   "cell_type": "code",
   "execution_count": 33,
   "id": "148e3477-7cd0-484e-8ede-b365e98676a9",
   "metadata": {},
   "outputs": [],
   "source": [
    "kamranage = 35"
   ]
  },
  {
   "cell_type": "code",
   "execution_count": 34,
   "id": "944d6965-563b-4477-9c5a-3c387894c381",
   "metadata": {},
   "outputs": [
    {
     "data": {
      "text/plain": [
       "35"
      ]
     },
     "execution_count": 34,
     "metadata": {},
     "output_type": "execute_result"
    }
   ],
   "source": [
    "kamranage"
   ]
  },
  {
   "cell_type": "code",
   "execution_count": 35,
   "id": "074b7921-2109-466d-950a-26d640f9242c",
   "metadata": {},
   "outputs": [
    {
     "data": {
      "text/plain": [
       "64"
      ]
     },
     "execution_count": 35,
     "metadata": {},
     "output_type": "execute_result"
    }
   ],
   "source": [
    "kamranage + ahsanage"
   ]
  },
  {
   "cell_type": "code",
   "execution_count": 36,
   "id": "626905e8-89a4-4af5-9791-eadc033ef4a1",
   "metadata": {},
   "outputs": [],
   "source": [
    "#that is good, I am understanding it"
   ]
  },
  {
   "cell_type": "code",
   "execution_count": 37,
   "id": "5b2e42ce-8d7b-4bd7-98d1-d11cb81fbded",
   "metadata": {},
   "outputs": [],
   "source": [
    "x = 3"
   ]
  },
  {
   "cell_type": "code",
   "execution_count": 38,
   "id": "3447fa3f-3dee-4fb8-90ba-d39c71b2c5bd",
   "metadata": {},
   "outputs": [],
   "source": [
    "y = 4"
   ]
  },
  {
   "cell_type": "code",
   "execution_count": 39,
   "id": "8c4b3565-de9e-4a10-bbe5-681a10889983",
   "metadata": {},
   "outputs": [],
   "source": [
    "z = x + y"
   ]
  },
  {
   "cell_type": "code",
   "execution_count": 40,
   "id": "e065e519-6e16-42b4-a94a-3b038b1c8ff0",
   "metadata": {},
   "outputs": [
    {
     "data": {
      "text/plain": [
       "7"
      ]
     },
     "execution_count": 40,
     "metadata": {},
     "output_type": "execute_result"
    }
   ],
   "source": [
    "z"
   ]
  },
  {
   "cell_type": "code",
   "execution_count": 41,
   "id": "449cf59e-6b98-4b9c-9608-926a2efd84c1",
   "metadata": {},
   "outputs": [
    {
     "data": {
      "text/plain": [
       "12"
      ]
     },
     "execution_count": 41,
     "metadata": {},
     "output_type": "execute_result"
    }
   ],
   "source": [
    "x*y"
   ]
  },
  {
   "cell_type": "code",
   "execution_count": 42,
   "id": "b013a589-414a-41f1-bf03-ea09187fdc4a",
   "metadata": {},
   "outputs": [
    {
     "data": {
      "text/plain": [
       "0.75"
      ]
     },
     "execution_count": 42,
     "metadata": {},
     "output_type": "execute_result"
    }
   ],
   "source": [
    "x/y"
   ]
  },
  {
   "cell_type": "code",
   "execution_count": 43,
   "id": "1016bfae-4add-4009-9feb-604dd203e2e8",
   "metadata": {},
   "outputs": [
    {
     "data": {
      "text/plain": [
       "3"
      ]
     },
     "execution_count": 43,
     "metadata": {},
     "output_type": "execute_result"
    }
   ],
   "source": [
    "x%y"
   ]
  },
  {
   "cell_type": "code",
   "execution_count": 45,
   "id": "b0ed2f44-ad1a-45f5-9a7c-2c92ca537904",
   "metadata": {},
   "outputs": [
    {
     "data": {
      "text/plain": [
       "81"
      ]
     },
     "execution_count": 45,
     "metadata": {},
     "output_type": "execute_result"
    }
   ],
   "source": [
    "x**y"
   ]
  },
  {
   "cell_type": "code",
   "execution_count": 46,
   "id": "f3b49d69-c3fc-4af6-88a2-25527c0ba9e9",
   "metadata": {},
   "outputs": [
    {
     "data": {
      "text/plain": [
       "-1"
      ]
     },
     "execution_count": 46,
     "metadata": {},
     "output_type": "execute_result"
    }
   ],
   "source": [
    "x-y"
   ]
  },
  {
   "cell_type": "code",
   "execution_count": 47,
   "id": "36976f09-2ec1-49be-a57c-28303d4fd766",
   "metadata": {},
   "outputs": [],
   "source": [
    "salary = 10000"
   ]
  },
  {
   "cell_type": "code",
   "execution_count": 48,
   "id": "388db6bf-8250-4961-ad18-f1e30afbc238",
   "metadata": {},
   "outputs": [
    {
     "data": {
      "text/plain": [
       "10000"
      ]
     },
     "execution_count": 48,
     "metadata": {},
     "output_type": "execute_result"
    }
   ],
   "source": [
    "salary"
   ]
  },
  {
   "cell_type": "code",
   "execution_count": 49,
   "id": "7cf58392-19da-4b1c-9417-130c8088561f",
   "metadata": {},
   "outputs": [],
   "source": [
    "salary = salary + 50000"
   ]
  },
  {
   "cell_type": "code",
   "execution_count": 50,
   "id": "1b58c49c-7467-45c1-bc03-d5c803d2d411",
   "metadata": {},
   "outputs": [
    {
     "data": {
      "text/plain": [
       "60000"
      ]
     },
     "execution_count": 50,
     "metadata": {},
     "output_type": "execute_result"
    }
   ],
   "source": [
    "salary"
   ]
  },
  {
   "cell_type": "code",
   "execution_count": 51,
   "id": "59418e50-f57d-434f-948d-13d451a6ae29",
   "metadata": {},
   "outputs": [
    {
     "data": {
      "text/plain": [
       "0"
      ]
     },
     "execution_count": 51,
     "metadata": {},
     "output_type": "execute_result"
    }
   ],
   "source": [
    " x//y"
   ]
  },
  {
   "cell_type": "code",
   "execution_count": 52,
   "id": "12110e76-a22f-4610-89e0-b225f35468b9",
   "metadata": {},
   "outputs": [
    {
     "data": {
      "text/plain": [
       "2"
      ]
     },
     "execution_count": 52,
     "metadata": {},
     "output_type": "execute_result"
    }
   ],
   "source": [
    "5%3"
   ]
  },
  {
   "cell_type": "code",
   "execution_count": 53,
   "id": "6076b64a-5a2c-4163-999a-03b19eb0e09b",
   "metadata": {},
   "outputs": [
    {
     "data": {
      "text/plain": [
       "1"
      ]
     },
     "execution_count": 53,
     "metadata": {},
     "output_type": "execute_result"
    }
   ],
   "source": [
    "5%2"
   ]
  },
  {
   "cell_type": "code",
   "execution_count": null,
   "id": "be838058-189b-4cf6-af4f-36cb265b7bab",
   "metadata": {},
   "outputs": [],
   "source": []
  }
 ],
 "metadata": {
  "kernelspec": {
   "display_name": "Python 3 (ipykernel)",
   "language": "python",
   "name": "python3"
  },
  "language_info": {
   "codemirror_mode": {
    "name": "ipython",
    "version": 3
   },
   "file_extension": ".py",
   "mimetype": "text/x-python",
   "name": "python",
   "nbconvert_exporter": "python",
   "pygments_lexer": "ipython3",
   "version": "3.12.7"
  }
 },
 "nbformat": 4,
 "nbformat_minor": 5
}
